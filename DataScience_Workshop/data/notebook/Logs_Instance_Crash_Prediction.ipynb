{
 "cells": [
  {
   "cell_type": "markdown",
   "metadata": {},
   "source": [
    "### Imports"
   ]
  },
  {
   "cell_type": "code",
   "execution_count": null,
   "metadata": {
    "ExecuteTime": {
     "end_time": "2020-09-08T10:20:02.790695Z",
     "start_time": "2020-09-08T10:19:57.899087Z"
    }
   },
   "outputs": [],
   "source": [
    "# Import AEMpy library\n",
    "import aempy\n",
    "\n",
    "# Import Extra libraries\n",
    "import mxnet as mx\n",
    "from mxnet import gluon\n",
    "import numpy as np\n",
    "import pandas as pd\n",
    "import matplotlib.pyplot as plt\n",
    "import json, datetime\n",
    "import seaborn as sns"
   ]
  },
  {
   "cell_type": "markdown",
   "metadata": {},
   "source": [
    "### Connect to AEM System Console and get the Error logs"
   ]
  },
  {
   "cell_type": "code",
   "execution_count": null,
   "metadata": {
    "ExecuteTime": {
     "end_time": "2020-09-08T10:20:02.806012Z",
     "start_time": "2020-09-08T10:20:02.803377Z"
    }
   },
   "outputs": [],
   "source": [
    "system = aempy.System()"
   ]
  },
  {
   "cell_type": "code",
   "execution_count": null,
   "metadata": {
    "ExecuteTime": {
     "end_time": "2020-09-08T10:20:03.041128Z",
     "start_time": "2020-09-08T10:20:02.818850Z"
    }
   },
   "outputs": [],
   "source": [
    "# Request error logs\n",
    "errorlogs = system.log_error()"
   ]
  },
  {
   "cell_type": "code",
   "execution_count": null,
   "metadata": {
    "ExecuteTime": {
     "end_time": "2020-08-30T08:21:14.312184Z",
     "start_time": "2020-08-30T08:20:45.419999Z"
    }
   },
   "outputs": [],
   "source": [
    "# There is a builtin parsing in AEMpy to automatically convert logs to pandas dataframe\n",
    "dfErrors = system.error_log_to_df(errorlogs)"
   ]
  },
  {
   "cell_type": "markdown",
   "metadata": {},
   "source": [
    "### Question: What is the distribution of the message levels?"
   ]
  },
  {
   "cell_type": "code",
   "execution_count": null,
   "metadata": {
    "ExecuteTime": {
     "end_time": "2020-08-30T08:21:14.351924Z",
     "start_time": "2020-08-30T08:21:14.314078Z"
    }
   },
   "outputs": [],
   "source": [
    "# What is the distribution of the message levels?\n",
    "dfErrors.groupby(\"level\")[\"level\"].count()"
   ]
  },
  {
   "cell_type": "code",
   "execution_count": null,
   "metadata": {
    "ExecuteTime": {
     "end_time": "2020-08-30T08:21:14.639916Z",
     "start_time": "2020-08-30T08:21:14.353839Z"
    },
    "scrolled": true
   },
   "outputs": [],
   "source": [
    "# Plot the messages with 1 min frequency\n",
    "system.plot(dfErrors)"
   ]
  },
  {
   "cell_type": "markdown",
   "metadata": {},
   "source": [
    "### Analyze a more complex error log file"
   ]
  },
  {
   "cell_type": "code",
   "execution_count": null,
   "metadata": {
    "ExecuteTime": {
     "end_time": "2020-09-08T10:22:39.908746Z",
     "start_time": "2020-09-08T10:22:09.630754Z"
    }
   },
   "outputs": [],
   "source": [
    "# Read a local log file\n",
    "dfErrors = system.error_logfile_to_df(\"error.log.2020-07-29\")"
   ]
  },
  {
   "cell_type": "code",
   "execution_count": null,
   "metadata": {
    "ExecuteTime": {
     "end_time": "2020-09-08T10:22:39.949511Z",
     "start_time": "2020-09-08T10:22:39.938283Z"
    }
   },
   "outputs": [],
   "source": [
    "# What is the distribution of the message levels?\n",
    "dfErrors.groupby(\"level\")[\"level\"].count()"
   ]
  },
  {
   "cell_type": "code",
   "execution_count": null,
   "metadata": {
    "ExecuteTime": {
     "end_time": "2020-09-08T10:22:40.343056Z",
     "start_time": "2020-09-08T10:22:39.986015Z"
    }
   },
   "outputs": [],
   "source": [
    "# Plot the messages with 1 min frequency\n",
    "system.plot(dfErrors)"
   ]
  },
  {
   "cell_type": "markdown",
   "metadata": {},
   "source": [
    "#### Filter and plot the errors"
   ]
  },
  {
   "cell_type": "code",
   "execution_count": null,
   "metadata": {
    "ExecuteTime": {
     "end_time": "2020-09-08T10:22:40.384276Z",
     "start_time": "2020-09-08T10:22:40.378079Z"
    }
   },
   "outputs": [],
   "source": [
    "# Filter to keep only errors\n",
    "df_ERROR = dfErrors[dfErrors[\"level\"] == \"ERROR\"]"
   ]
  },
  {
   "cell_type": "code",
   "execution_count": null,
   "metadata": {
    "ExecuteTime": {
     "end_time": "2020-09-08T10:22:40.447589Z",
     "start_time": "2020-09-08T10:22:40.426996Z"
    }
   },
   "outputs": [],
   "source": [
    "df_ERROR.head(10)"
   ]
  },
  {
   "cell_type": "code",
   "execution_count": null,
   "metadata": {
    "ExecuteTime": {
     "end_time": "2020-09-08T10:22:40.714432Z",
     "start_time": "2020-09-08T10:22:40.498661Z"
    }
   },
   "outputs": [],
   "source": [
    "# Plot the ERROR messages with 1 min frequency\n",
    "# See available frequencies here: https://pandas.pydata.org/pandas-docs/stable/user_guide/timeseries.html#offset-aliases\n",
    "system.plot(df_ERROR, \"1min\") # \"1ms\")"
   ]
  },
  {
   "cell_type": "markdown",
   "metadata": {},
   "source": [
    "#### Group the errors per seconds"
   ]
  },
  {
   "cell_type": "code",
   "execution_count": null,
   "metadata": {
    "ExecuteTime": {
     "end_time": "2020-08-30T12:25:33.175865Z",
     "start_time": "2020-08-30T12:25:33.123567Z"
    }
   },
   "outputs": [],
   "source": [
    "# Amount of errors per minute\n",
    "t = (df_ERROR.assign(counter = 1)\n",
    "             .set_index('date')\n",
    "             .groupby([pd.Grouper(freq=\"1min\"), 'level']).sum()\n",
    "             .squeeze()\n",
    "             .unstack())\n",
    "\n",
    "t.head()"
   ]
  },
  {
   "cell_type": "markdown",
   "metadata": {},
   "source": [
    "### Detect Anomalies and predict errors"
   ]
  },
  {
   "cell_type": "code",
   "execution_count": null,
   "metadata": {
    "ExecuteTime": {
     "end_time": "2020-09-08T10:24:25.802492Z",
     "start_time": "2020-09-08T10:24:25.786777Z"
    }
   },
   "outputs": [],
   "source": [
    "# Technical conversion to Data Frame\n",
    "df_logs = pd.DataFrame({\"logdate\":t.index.to_pydatetime(), \n",
    "        \"error_count\":t['ERROR'].values}, columns=[\"logdate\", \"error_count\"])\n",
    "df_logs.head()"
   ]
  },
  {
   "cell_type": "markdown",
   "metadata": {},
   "source": [
    "#### Set the length of the prediction in seconds"
   ]
  },
  {
   "cell_type": "code",
   "execution_count": null,
   "metadata": {
    "ExecuteTime": {
     "end_time": "2020-09-08T10:24:47.372657Z",
     "start_time": "2020-09-08T10:24:47.369995Z"
    }
   },
   "outputs": [],
   "source": [
    "prediction_length = 10"
   ]
  },
  {
   "cell_type": "markdown",
   "metadata": {},
   "source": [
    "#### Format the data into a dataset that fit to the Machine Learning Framework (Apache MXNet Gluon)"
   ]
  },
  {
   "cell_type": "code",
   "execution_count": null,
   "metadata": {
    "ExecuteTime": {
     "end_time": "2020-09-08T10:25:45.329181Z",
     "start_time": "2020-09-08T10:25:45.316770Z"
    }
   },
   "outputs": [],
   "source": [
    "train_ds = []\n",
    "for x in range(0,len(df_logs),prediction_length):\n",
    "    log_window = df_logs.loc[x:x+prediction_length]\n",
    "    ts = pd.Timestamp(log_window['logdate'].iloc[0], freq=\"min\")\n",
    "    train_ds.append({'target':log_window['error_count'].astype('float').values, 'start':ts})"
   ]
  },
  {
   "cell_type": "markdown",
   "metadata": {},
   "source": [
    "#### Import Gluon"
   ]
  },
  {
   "cell_type": "code",
   "execution_count": null,
   "metadata": {
    "ExecuteTime": {
     "end_time": "2020-08-30T13:39:56.733219Z",
     "start_time": "2020-08-30T13:39:56.702290Z"
    }
   },
   "outputs": [],
   "source": [
    "from gluonts.model.simple_feedforward import SimpleFeedForwardEstimator\n",
    "from gluonts.trainer import Trainer\n",
    "from gluonts.evaluation.backtest import make_evaluation_predictions"
   ]
  },
  {
   "cell_type": "markdown",
   "metadata": {},
   "source": [
    "#### Instantiate the Machine Learning model for prediction"
   ]
  },
  {
   "cell_type": "code",
   "execution_count": null,
   "metadata": {
    "ExecuteTime": {
     "end_time": "2020-08-30T13:40:47.552419Z",
     "start_time": "2020-08-30T13:40:47.517147Z"
    }
   },
   "outputs": [],
   "source": [
    "estimator = SimpleFeedForwardEstimator(\n",
    "    num_hidden_dimensions=[10],\n",
    "    prediction_length=prediction_length,\n",
    "    context_length=100,\n",
    "    freq=\"1min\",\n",
    "    trainer=Trainer(ctx=\"cpu\", epochs=50, learning_rate=0.001, hybridize=True, num_batches_per_epoch=200,),\n",
    ")"
   ]
  },
  {
   "cell_type": "markdown",
   "metadata": {},
   "source": [
    "#### Train the model"
   ]
  },
  {
   "cell_type": "code",
   "execution_count": null,
   "metadata": {
    "ExecuteTime": {
     "end_time": "2020-08-30T13:41:35.505065Z",
     "start_time": "2020-08-30T13:40:48.044316Z"
    }
   },
   "outputs": [],
   "source": [
    "predictor = estimator.train(train_ds)"
   ]
  },
  {
   "cell_type": "markdown",
   "metadata": {},
   "source": [
    "#### Predict"
   ]
  },
  {
   "cell_type": "code",
   "execution_count": null,
   "metadata": {
    "ExecuteTime": {
     "end_time": "2020-08-30T13:41:50.042183Z",
     "start_time": "2020-08-30T13:41:49.999113Z"
    }
   },
   "outputs": [],
   "source": [
    "forecast_it, ts_it = make_evaluation_predictions(\n",
    "    dataset=train_ds[-2:],  # test dataset\n",
    "    predictor=predictor,  # predictor\n",
    "    num_samples=100,  # number of sample paths we want for evaluation\n",
    ")"
   ]
  },
  {
   "cell_type": "code",
   "execution_count": null,
   "metadata": {
    "ExecuteTime": {
     "end_time": "2020-08-30T13:41:50.682955Z",
     "start_time": "2020-08-30T13:41:50.647520Z"
    }
   },
   "outputs": [],
   "source": [
    "forecasts = list(forecast_it)\n",
    "tss = list(ts_it)"
   ]
  },
  {
   "cell_type": "markdown",
   "metadata": {},
   "source": [
    "#### Plot the anomaly detection and prediction"
   ]
  },
  {
   "cell_type": "code",
   "execution_count": null,
   "metadata": {
    "ExecuteTime": {
     "end_time": "2020-08-30T13:41:51.496298Z",
     "start_time": "2020-08-30T13:41:51.191382Z"
    }
   },
   "outputs": [],
   "source": [
    "# Plot the prediction\n",
    "plot_length = 150 \n",
    "prediction_intervals = (50.0, 90.0)\n",
    "legend = [\"observations\", \"median prediction\"] + [f\"{k}% prediction interval\" for k in prediction_intervals][::-1]\n",
    "\n",
    "fig, ax = plt.subplots(1, 1, figsize=(10, 7))\n",
    "tss[0][-plot_length:].plot(ax=ax)  # plot the time series\n",
    "forecasts[0].plot(prediction_intervals=prediction_intervals, color='g')\n",
    "plt.grid(which=\"both\")\n",
    "plt.legend(legend, loc=\"upper left\")\n",
    "plt.show()"
   ]
  },
  {
   "cell_type": "code",
   "execution_count": null,
   "metadata": {},
   "outputs": [],
   "source": []
  },
  {
   "cell_type": "code",
   "execution_count": null,
   "metadata": {},
   "outputs": [],
   "source": []
  }
 ],
 "metadata": {
  "kernelspec": {
   "display_name": "Python 3",
   "language": "python",
   "name": "python3"
  },
  "language_info": {
   "codemirror_mode": {
    "name": "ipython",
    "version": 3
   },
   "file_extension": ".py",
   "mimetype": "text/x-python",
   "name": "python",
   "nbconvert_exporter": "python",
   "pygments_lexer": "ipython3",
   "version": "3.7.7"
  },
  "toc": {
   "base_numbering": 1,
   "nav_menu": {},
   "number_sections": true,
   "sideBar": true,
   "skip_h1_title": false,
   "title_cell": "Table of Contents",
   "title_sidebar": "Contents",
   "toc_cell": false,
   "toc_position": {},
   "toc_section_display": true,
   "toc_window_display": false
  },
  "varInspector": {
   "cols": {
    "lenName": 16,
    "lenType": 16,
    "lenVar": 40
   },
   "kernels_config": {
    "python": {
     "delete_cmd_postfix": "",
     "delete_cmd_prefix": "del ",
     "library": "var_list.py",
     "varRefreshCmd": "print(var_dic_list())"
    },
    "r": {
     "delete_cmd_postfix": ") ",
     "delete_cmd_prefix": "rm(",
     "library": "var_list.r",
     "varRefreshCmd": "cat(var_dic_list()) "
    }
   },
   "types_to_exclude": [
    "module",
    "function",
    "builtin_function_or_method",
    "instance",
    "_Feature"
   ],
   "window_display": false
  }
 },
 "nbformat": 4,
 "nbformat_minor": 4
}
